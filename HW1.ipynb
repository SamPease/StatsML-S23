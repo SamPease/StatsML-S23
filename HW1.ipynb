{
 "cells": [
  {
   "cell_type": "code",
   "execution_count": 58,
   "id": "a8ce89c8-c6fc-44f7-a241-1a7cf533659f",
   "metadata": {},
   "outputs": [],
   "source": [
    "import pandas\n",
    "import numpy as np\n",
    "from scipy.stats import bernoulli, multinomial, expon, fit, norm\n",
    "from scipy import stats"
   ]
  },
  {
   "cell_type": "code",
   "execution_count": 52,
   "id": "818f232b",
   "metadata": {},
   "outputs": [
    {
     "name": "stdout",
     "output_type": "stream",
     "text": [
      "0.58\n"
     ]
    }
   ],
   "source": [
    "p = .63\n",
    "X = bernoulli(p)\n",
    "\n",
    "n=100\n",
    "Y=X.rvs(n)\n",
    "\n",
    "expected_p=sum(Y)/n\n",
    "\n",
    "print(expected_p)"
   ]
  },
  {
   "cell_type": "code",
   "execution_count": 53,
   "id": "2a6088be",
   "metadata": {},
   "outputs": [
    {
     "name": "stdout",
     "output_type": "stream",
     "text": [
      "[0.47, 0.29, 0.24]\n"
     ]
    }
   ],
   "source": [
    "p = [1/2,1/4,1/4]\n",
    "n=100\n",
    "X = multinomial(n,p)\n",
    "\n",
    "Y=X.rvs()\n",
    "\n",
    "expected_p=[Y[0][i]/n for i in range(len(Y[0]))]\n",
    "\n",
    "print(expected_p)"
   ]
  },
  {
   "cell_type": "code",
   "execution_count": 74,
   "id": "f1c4efc2",
   "metadata": {},
   "outputs": [
    {
     "name": "stdout",
     "output_type": "stream",
     "text": [
      "17.966228120396657\n"
     ]
    }
   ],
   "source": [
    "l = 18\n",
    "X = expon(0,l)\n",
    "\n",
    "n=100\n",
    "Y=X.rvs(n)\n",
    "\n",
    "expected_l= expon.fit(Y,floc=0)\n",
    "\n",
    "\n",
    "print(expected_l[1])"
   ]
  },
  {
   "cell_type": "code",
   "execution_count": 102,
   "id": "448ab6a0",
   "metadata": {},
   "outputs": [
    {
     "name": "stdout",
     "output_type": "stream",
     "text": [
      "50\n",
      "4.724515517067171\n"
     ]
    }
   ],
   "source": [
    "mean = 50\n",
    "stddev = 5\n",
    "X = norm(mean,stddev)\n",
    "\n",
    "n=100\n",
    "Y=X.rvs(n)\n",
    "\n",
    "expected_mean = sum(Y)/n\n",
    "expected_stddev = np.sqrt((sum((Y[i]-expected_mean)**2 for i in range(len(Y))) )/n)\n",
    "\n",
    "print(mean)\n",
    "print(expected_stddev)"
   ]
  },
  {
   "cell_type": "code",
   "execution_count": null,
   "id": "e27b4ed4",
   "metadata": {},
   "outputs": [],
   "source": []
  }
 ],
 "metadata": {
  "kernelspec": {
   "display_name": "Python 3 (ipykernel)",
   "language": "python",
   "name": "python3"
  },
  "language_info": {
   "codemirror_mode": {
    "name": "ipython",
    "version": 3
   },
   "file_extension": ".py",
   "mimetype": "text/x-python",
   "name": "python",
   "nbconvert_exporter": "python",
   "pygments_lexer": "ipython3",
   "version": "3.9.13"
  }
 },
 "nbformat": 4,
 "nbformat_minor": 5
}
